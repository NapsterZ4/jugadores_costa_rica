{
 "cells": [
  {
   "cell_type": "markdown",
   "metadata": {},
   "source": [
    "# Introducción\n",
    "\n",
    "El siguiente dataset toma la descripción principal de los traspasos, goles, cantidad de partidos y fechas por temporadas de los jugadores de la Liga Costarricence de Fútbol con el objetivo de caracterizar estadísticamente el rendimiento de los jugadores y plantear una predicción para visualizar el posible rendimiento de un jugador al traspaso de equipo o por temporada. La importancia de evaluar este conjunto de datos, recae en la toma de decisiones para los directivos, representantes de jugadores y directores técnicos para la contratación de un jugador a partir de las características presentadas por temporadas en diferentes equipos y observar el comportamiento a través de su trazabilidad y entender si conviene o no realizar un traspaso para el equipo."
   ]
  },
  {
   "cell_type": "markdown",
   "metadata": {},
   "source": [
    "# Descripción de los datos\n",
    "\n",
    "- **Nombre:** Fútbolistas de Costa Rica\n",
    "- **Fuente/Creador:** Wikipedia\n",
    "- **Proceso de creación:** (SparQL query)\n",
    "- **Forma de acceso:** A través de una consulta realizada a wikipedia con SparQL\n",
    "- **Licencia:** Sin licencia\n",
    "- **Fecha de publicación/Fecha de recuperación:** 08 de agosto del 2020\n",
    "- **Formato de los archivos:** csv"
   ]
  },
  {
   "cell_type": "code",
   "execution_count": null,
   "metadata": {},
   "outputs": [],
   "source": []
  },
  {
   "cell_type": "code",
   "execution_count": null,
   "metadata": {},
   "outputs": [],
   "source": []
  }
 ],
 "metadata": {
  "kernelspec": {
   "display_name": "Python 3",
   "language": "python",
   "name": "python3"
  },
  "language_info": {
   "codemirror_mode": {
    "name": "ipython",
    "version": 3
   },
   "file_extension": ".py",
   "mimetype": "text/x-python",
   "name": "python",
   "nbconvert_exporter": "python",
   "pygments_lexer": "ipython3",
   "version": "3.8.3"
  }
 },
 "nbformat": 4,
 "nbformat_minor": 4
}
